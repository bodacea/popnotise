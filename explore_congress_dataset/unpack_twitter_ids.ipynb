{
 "cells": [
  {
   "cell_type": "markdown",
   "metadata": {},
   "source": [
    "# Unpack twitter ids to get timestamp etc \n",
    "\n",
    "Twitter ids are interesting here: there are roughly 2000 10-bit ids, then a jump to 18-bit ids (roughly 1000 of these).  \n",
    "\n",
    "* Coo: ids can break JavaScript, which is why the string version is included in the API https://developer.twitter.com/en/docs/basics/twitter-ids\n",
    "* Twitter opensourced the code https://github.com/twitter/snowflake\n",
    "* ... and now I'm reading Scala (function nextId in file IdWorker.scala)\n",
    "* Twitter wrote about it: https://www.slideshare.net/davegardnerisme/unique-id-generation-in-distributed-systems\n",
    "* 64 bits = 41-bit unix timestamp (ms) + 10-bit machine id + 12-bit sequence (0-4095); timestamp = timestamp - twepoch, where twepoch is the date of the first tweet, 1288834974657 or 2010/11/04 10:42:54 (see https://www.slideshare.net/moaikids/20130901-snowflake)\n",
    "* id = time* 2^22 + node * 2^12 + seq\n",
    "* So we should be able to work out when the twitter ids were created, at least for the later 1000 ones. Plus which machines they were on. \n",
    "\n",
    "Notes:\n",
    "* datetime.datetime.utcfromtimestamp(twitter_epoch/1e3).strftime('%Y-%m-%d %H:%M:%S') gives '2010-11-04 01:42:54'.  Am presuming for now that the original tweet date stated was in PST time.\n",
    "* Using this in congress tweeter list decoding."
   ]
  },
  {
   "cell_type": "code",
   "execution_count": 6,
   "metadata": {},
   "outputs": [],
   "source": [
    "import math\n",
    "import datetime\n",
    "\n",
    "\n",
    "def decode_twitter_id(twitterid, verbose=False):\n",
    "    \n",
    "    # Weed out old twitter ids\n",
    "    # put boundary at pow(10,12)\n",
    "    if twitterid < math.pow(10,12):\n",
    "        return(twitterid, 0, 0, 0, 0)\n",
    "    \n",
    "    twitter_epoch = 1288834974657\n",
    "    bins = '{0:b}'.format(twitterid)\n",
    "    if verbose:\n",
    "        print('{0}\\n{1}, {2}, {3}'.format(bins, bins[:-22], bins[-22:-12], bins[-12:]))\n",
    "        print('{0}, {1}, {2}'.format(int(bins[:-22], base=2), int(bins[-22:-12], base=2), \n",
    "                                            int(bins[-12:], base=2)))\n",
    "    seq = int(bins[-12:], base=2)\n",
    "    mid = int(bins[-22:-12], base=2)\n",
    "    tepoch = twitter_epoch + int(bins[:-22], base=2)\n",
    "    tmillis = tepoch % 1e3\n",
    "    tstamp = datetime.datetime.utcfromtimestamp(tepoch/1e3).strftime('%Y-%m-%d %H:%M:%S')\n",
    "    return(seq, mid, tepoch, tstamp, tmillis)"
   ]
  },
  {
   "cell_type": "code",
   "execution_count": 7,
   "metadata": {},
   "outputs": [
    {
     "data": {
      "text/plain": [
       "(0, 370, 1456058523219, '2016-02-21 12:42:03', 219.0)"
      ]
     },
     "execution_count": 7,
     "metadata": {},
     "output_type": "execute_result"
    }
   ],
   "source": [
    "decode_twitter_id(701386398629306368)"
   ]
  },
  {
   "cell_type": "code",
   "execution_count": 8,
   "metadata": {},
   "outputs": [
    {
     "data": {
      "text/plain": [
       "(1688370956, 0, 0, 0, 0)"
      ]
     },
     "execution_count": 8,
     "metadata": {},
     "output_type": "execute_result"
    }
   ],
   "source": [
    "decode_twitter_id(1688370956)"
   ]
  },
  {
   "cell_type": "code",
   "execution_count": null,
   "metadata": {
    "collapsed": true
   },
   "outputs": [],
   "source": []
  }
 ],
 "metadata": {
  "kernelspec": {
   "display_name": "Python 3",
   "language": "python",
   "name": "python3"
  },
  "language_info": {
   "codemirror_mode": {
    "name": "ipython",
    "version": 3
   },
   "file_extension": ".py",
   "mimetype": "text/x-python",
   "name": "python",
   "nbconvert_exporter": "python",
   "pygments_lexer": "ipython3",
   "version": "3.6.3"
  }
 },
 "nbformat": 4,
 "nbformat_minor": 2
}
