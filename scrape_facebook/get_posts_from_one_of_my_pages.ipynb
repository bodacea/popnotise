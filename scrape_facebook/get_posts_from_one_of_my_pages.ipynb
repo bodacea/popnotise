{
 "cells": [
  {
   "cell_type": "markdown",
   "metadata": {
    "collapsed": true
   },
   "source": [
    "# Get posts from a Facebook page that I own"
   ]
  },
  {
   "cell_type": "code",
   "execution_count": 18,
   "metadata": {},
   "outputs": [],
   "source": [
    "from facepy import GraphAPI\n",
    "import json\n",
    "\n",
    "\n",
    "fin = open('../../../../../p_face_pages.txt', 'r')\n",
    "fids = fin.readline().strip().split(',')[:3]\n",
    "fin.close()\n",
    "\n",
    "page_id= fids[1]\n",
    "access = fids[2]\n",
    "graph = GraphAPI(access)"
   ]
  },
  {
   "cell_type": "code",
   "execution_count": 39,
   "metadata": {},
   "outputs": [
    {
     "name": "stdout",
     "output_type": "stream",
     "text": [
      "{'data': [{'message': 'More potential funding (and an interesting meeting) http://ritaallen.org/misinformation-solutions-forum/', 'id': '1016374218504396_1098828580258959'}, {'message': 'Funding pot for tech-level work on misinformation? http://www.niemanlab.org/2018/03/the-platforms-are-the-problem-the-fight-against-digital-disinformation-gets-10-million-from-the-hewlett-foundation/', 'id': '1016374218504396_1098826006925883'}, {'message': \"Rereading Twitter's 2017 submission on misinformation https://www.judiciary.senate.gov/imo/media/doc/10-31-17%20Edgett%20Testimony.pdf\", 'id': '1016374218504396_1095562753918875'}, {'message': 'Also from Pheme, a lovely clear paper on fallacious rumours, data collection etc. https://arxiv.org/pdf/1704.00656.pdf', 'id': '1016374218504396_1094874397321044'}, {'message': \"I've been reading through the Pheme project's recent activities, found this: https://gate4ugc.blogspot.co.uk/2017/12/discerning-truth-in-age-of-ubiquitous.html (pheme is at https://www.pheme.eu/)\", 'id': '1016374218504396_1094872847321199'}, {'message': 'Some more mechanisms https://www.buzzfeed.com/craigsilverman/how-facebook-groups-are-being-exploited-to-spread', 'id': '1016374218504396_1093276694147481'}, {'message': 'Tim\\'s \"crazy wall\" post.  Lot of useful material in here https://medium.com/@timboucher/russian-manipulation-of-social-media-is-real-f0f46519207a', 'id': '1016374218504396_1092982917510192'}, {'message': 'http://www.nybooks.com/articles/2018/04/05/silicon-valley-beware-big-five/', 'id': '1016374218504396_1092887937519690'}, {'message': 'https://www.wired.com/story/susan-wojcicki-on-youtubes-fight-against-misinformation/ - where YouTuber talks misinformation, algorithms, using reputation and links to Wikipedia conspiracy pages.', 'id': '1016374218504396_1092876634187487'}, {'message': 'This is a nice piece of data science work (on the list of 2000+ trolls released by congress) https://arxiv.org/pdf/1801.09288.pdf', 'id': '1016374218504396_1090732657735218'}, {'message': 'https://www.newyorker.com/magazine/2018/03/19/reddit-and-the-struggle-to-detoxify-the-internet', 'id': '1016374218504396_1089576937850790'}, {'message': 'https://medium.com/@timboucher/why-the-internet-is-ruined-4d653a14ac20', 'id': '1016374218504396_1088654861276331'}, {'message': 'This is interesting - might be a good seed source for looking for troll-amplified news? https://mediabiasfactcheck.com/', 'id': '1016374218504396_1087225724752578'}, {'message': 'http://theatln.tc/2DcqWnL MIT study on twitter falsehood propagation.', 'id': '1016374218504396_1086613281480489'}, {'message': 'Today: troll farms. https://twitter.com/benimmo/status/971678310987157505', 'id': '1016374218504396_1086563551485462'}, {'message': \"Moral outrage and its manipulation is important in this story.  And I'm cross again about a paper that most people can't read all of. https://www.nature.com/articles/s41562-017-0213-3.epdf\", 'id': '1016374218504396_1086076561534161'}, {'message': \"This.  Damaged societies are easier to manipulate: that's not a shock, unless you're in a damaged society and didn't know it yet.\\n\\nhttps://www.politico.com/magazine/story/2018/03/07/russian-bots-social-media-217242\", 'id': '1016374218504396_1086049908203493'}, {'message': 'http://www.allgeneralizationsarefalse.com/the-chart-version-3-0-what-exactly-are-we-reading/', 'id': '1016374218504396_1084254848382999'}, {'message': \"Some Baltic reading too.  So many pieces to this puzzle: what exists, what's exploited, what the damages are, counters, repairs. https://www.washingtonpost.com/news/democracy-post/wp/2017/04/05/if-you-want-to-see-russian-information-warfare-at-its-worst-visit-these-countries/\", 'id': '1016374218504396_1083964588412025'}, {'message': 'Thinking about information wars, tying together some things from 2011. https://theintercept.com/2017/11/25/information-warfare-social-media-book-review-gaza/', 'id': '1016374218504396_1083961368412347'}, {'message': 'Ben Nimmo thread tracing Russian operations in us election. \\nhttps://twitter.com/benimmo/status/968538908102479872', 'id': '1016374218504396_1082120985263052'}, {'message': 'https://www.nbcnews.com/news/us-news/how-internet-s-conspiracy-theorists-turned-parkland-students-crisis-actors-n849921', 'id': '1016374218504396_1078590865616064'}, {'message': 'https://www.nytimes.com/2018/02/20/technology/social-media-impostor-accounts.html', 'id': '1016374218504396_1078589775616173'}, {'message': 'http://www.niemanlab.org/2018/02/should-we-consider-fake-news-another-form-of-not-particularly-effective-political-persuasion-or-something-more-dangerous/', 'id': '1016374218504396_1074955662646251'}, {'message': 'https://www.nbcnews.com/tech/social-media/now-available-more-200-000-deleted-russian-troll-tweets-n844731?cid=sm_npd_nn_tw_ma some data for the weekend...', 'id': '1016374218504396_1074803655994785'}], 'paging': {'previous': 'https://graph.facebook.com/v2.5/1016374218504396/posts?fields=message&since=1522327154&access_token=EAACEdEose0cBADQXfJ5IxNtSipxITxYrpVZCq4N7xdvDLZA93oQFR3CSGSqywGtgdyUQBrnoUH7jmFpVqB9Mqly8O75ciNYXdh3HgDljBDmVoDJ8iMDS2o3EKsWeudGXJ4WVPSCKSlHvGnUIguO7s63rk9FVwYrWB2CFtsd9ZC1MTsIIM1tZBTTLKvPC1ZA0ZD&limit=25&__paging_token=enc_AdD6BtChkMZAZAqIf2TosluOcZCfLquhO3DsLkZCTvtoIg3HNSBA1y1tVnXcJ21DXpZBZAzb6eLIJseBhDWst9FvnyRkWJNWD9eX2Oac8jCLNNBZAb5HgZDZD&__previous=1', 'next': 'https://graph.facebook.com/v2.5/1016374218504396/posts?fields=message&access_token=EAACEdEose0cBADQXfJ5IxNtSipxITxYrpVZCq4N7xdvDLZA93oQFR3CSGSqywGtgdyUQBrnoUH7jmFpVqB9Mqly8O75ciNYXdh3HgDljBDmVoDJ8iMDS2o3EKsWeudGXJ4WVPSCKSlHvGnUIguO7s63rk9FVwYrWB2CFtsd9ZC1MTsIIM1tZBTTLKvPC1ZA0ZD&limit=25&until=1518814583&__paging_token=enc_AdACCr355XVflShazjTmJCWwacqZCWlpt2zKWWos3ZByPv3S0xDNgW0lJgJqbPE6Y2ZAuYbY9R3xZBwYFb9RNWVkwZAemfhuysBkSZA8dK3ZAkMEHtZC0AZDZD'}, 'headers': {'x-page-usage': '{\"call_count\":1,\"total_cputime\":1,\"total_time\":1}', 'x-app-usage': '{\"call_count\":2,\"total_cputime\":1,\"total_time\":1}', 'ETag': '\"38950fb04b5867d20e909d217afcbd0b46ff0171\"', 'Strict-Transport-Security': 'max-age=15552000; preload', 'x-fb-trace-id': 'CtXXojRKJUL', 'x-fb-rev': '3769437', 'Expires': 'Sat, 01 Jan 2000 00:00:00 GMT', 'Content-Type': 'application/json; charset=UTF-8', 'facebook-api-version': 'v2.5', 'Cache-Control': 'private, no-cache, no-store, must-revalidate', 'Pragma': 'no-cache', 'Access-Control-Allow-Origin': '*', 'Vary': 'Accept-Encoding', 'Content-Encoding': 'gzip', 'X-FB-Debug': 'mp/ffA98YkTS2bxErZH5TudYVjFOwikZWXGtXrpT/LbgBqBZ8hxuP3pJDK4Q2QCPWS7t2AtrWdbgj0yPkZcSLg==', 'Date': 'Fri, 30 Mar 2018 06:14:30 GMT', 'Connection': 'keep-alive', 'Content-Length': '2729'}}\n",
      "\n",
      "\n",
      "{'data': [{'id': '1016374218504396_1016374565171028'}, {'id': '1016374218504396_1016374401837711'}], 'paging': {'previous': 'https://graph.facebook.com/v2.5/1016374218504396/posts?fields=message&limit=25&__paging_token=enc_AdCgufHFFvMZBlhNeECEEvg7oOd7PQwOUmUSwsGVxGphX3JoooT2maFQTzqppP2nFjisPSBotinLG6izmgxP4ymbC96Pby9e0UkzqsyNyrSIFJAZDZD&since=1509643597&access_token=EAACEdEose0cBADQXfJ5IxNtSipxITxYrpVZCq4N7xdvDLZA93oQFR3CSGSqywGtgdyUQBrnoUH7jmFpVqB9Mqly8O75ciNYXdh3HgDljBDmVoDJ8iMDS2o3EKsWeudGXJ4WVPSCKSlHvGnUIguO7s63rk9FVwYrWB2CFtsd9ZC1MTsIIM1tZBTTLKvPC1ZA0ZD&__previous=1', 'next': 'https://graph.facebook.com/v2.5/1016374218504396/posts?fields=message&limit=25&__paging_token=enc_AdC8RfzqwyrIh5teC6k4GsbfwyZCi469i8MaFgkO9ZCk1abYEoiju8wk5fvKxZC60PR6WeFLcWdzxMTZAR9mImrZAwPEhzjTCBeMcrqNxlehbOdyx3wZDZD&access_token=EAACEdEose0cBADQXfJ5IxNtSipxITxYrpVZCq4N7xdvDLZA93oQFR3CSGSqywGtgdyUQBrnoUH7jmFpVqB9Mqly8O75ciNYXdh3HgDljBDmVoDJ8iMDS2o3EKsWeudGXJ4WVPSCKSlHvGnUIguO7s63rk9FVwYrWB2CFtsd9ZC1MTsIIM1tZBTTLKvPC1ZA0ZD&until=1509643576'}, 'headers': {'x-page-usage': '{\"call_count\":1,\"total_cputime\":1,\"total_time\":1}', 'x-app-usage': '{\"call_count\":2,\"total_cputime\":1,\"total_time\":1}', 'ETag': '\"9e714fd8d8122487e505f48c6ed91c57de793ce9\"', 'Strict-Transport-Security': 'max-age=15552000; preload', 'x-fb-trace-id': 'HRC0+uf0hWu', 'x-fb-rev': '3769437', 'Expires': 'Sat, 01 Jan 2000 00:00:00 GMT', 'Content-Type': 'application/json; charset=UTF-8', 'facebook-api-version': 'v2.5', 'Cache-Control': 'private, no-cache, no-store, must-revalidate', 'Pragma': 'no-cache', 'Access-Control-Allow-Origin': '*', 'Vary': 'Accept-Encoding', 'Content-Encoding': 'gzip', 'X-FB-Debug': '5Q237lIBtGKn8pcm8cNJdBoANnLE38zNRD7ujxcbnSI4TtXiuUMwyYiRwePf/BHtUKI3fwqayB4aQIimx+Dn1Q==', 'Date': 'Fri, 30 Mar 2018 06:14:30 GMT', 'Connection': 'keep-alive', 'Content-Length': '577'}}\n",
      "\n",
      "\n"
     ]
    },
    {
     "name": "stdout",
     "output_type": "stream",
     "text": [
      "{'data': [], 'headers': {'x-page-usage': '{\"call_count\":1,\"total_cputime\":1,\"total_time\":1}', 'x-app-usage': '{\"call_count\":2,\"total_cputime\":1,\"total_time\":1}', 'ETag': '\"1050253aec7b29caff644806927dabfa81406eee\"', 'Strict-Transport-Security': 'max-age=15552000; preload', 'x-fb-trace-id': 'AUDOVYRJ/Ku', 'x-fb-rev': '3769437', 'Expires': 'Sat, 01 Jan 2000 00:00:00 GMT', 'Content-Type': 'application/json; charset=UTF-8', 'facebook-api-version': 'v2.5', 'Cache-Control': 'private, no-cache, no-store, must-revalidate', 'Pragma': 'no-cache', 'Access-Control-Allow-Origin': '*', 'X-FB-Debug': '6e/DnCxI90nZcahgDO0PJQY2F5m9Xcy/rvzu2Z6IMzCxecTLNfHcClfhUsL8xKtXQurOWUBcIvBY01LV33p1fg==', 'Date': 'Fri, 30 Mar 2018 06:14:31 GMT', 'Connection': 'keep-alive', 'Content-Length': '11'}}\n",
      "\n",
      "\n"
     ]
    }
   ],
   "source": [
    "# posts for a named page of mine\n",
    "pageposts = graph.get(page_id+'/posts?fields=message', page=True, retry=5)\n",
    "for p in pageposts:\n",
    "    print('{}\\n\\n'.format(p))"
   ]
  },
  {
   "cell_type": "code",
   "execution_count": 19,
   "metadata": {},
   "outputs": [
    {
     "data": {
      "text/plain": [
       "{'data': [{'created_time': '2018-03-29T12:39:14+0000',\n",
       "   'id': '1016374218504396_1098828580258959',\n",
       "   'message': 'More potential funding (and an interesting meeting) http://ritaallen.org/misinformation-solutions-forum/'},\n",
       "  {'created_time': '2018-03-29T12:33:29+0000',\n",
       "   'id': '1016374218504396_1098826006925883',\n",
       "   'message': 'Funding pot for tech-level work on misinformation? http://www.niemanlab.org/2018/03/the-platforms-are-the-problem-the-fight-against-digital-disinformation-gets-10-million-from-the-hewlett-foundation/'},\n",
       "  {'created_time': '2018-03-23T19:26:53+0000',\n",
       "   'id': '1016374218504396_1095562753918875',\n",
       "   'message': \"Rereading Twitter's 2017 submission on misinformation https://www.judiciary.senate.gov/imo/media/doc/10-31-17%20Edgett%20Testimony.pdf\"},\n",
       "  {'created_time': '2018-03-22T17:37:02+0000',\n",
       "   'id': '1016374218504396_1094874397321044',\n",
       "   'message': 'Also from Pheme, a lovely clear paper on fallacious rumours, data collection etc. https://arxiv.org/pdf/1704.00656.pdf'},\n",
       "  {'created_time': '2018-03-22T17:32:28+0000',\n",
       "   'id': '1016374218504396_1094872847321199',\n",
       "   'message': \"I've been reading through the Pheme project's recent activities, found this: https://gate4ugc.blogspot.co.uk/2017/12/discerning-truth-in-age-of-ubiquitous.html (pheme is at https://www.pheme.eu/)\"},\n",
       "  {'created_time': '2018-03-20T05:24:24+0000',\n",
       "   'id': '1016374218504396_1093276694147481',\n",
       "   'message': 'Some more mechanisms https://www.buzzfeed.com/craigsilverman/how-facebook-groups-are-being-exploited-to-spread'},\n",
       "  {'created_time': '2018-03-19T16:39:21+0000',\n",
       "   'id': '1016374218504396_1092982917510192',\n",
       "   'message': 'Tim\\'s \"crazy wall\" post.  Lot of useful material in here https://medium.com/@timboucher/russian-manipulation-of-social-media-is-real-f0f46519207a'},\n",
       "  {'created_time': '2018-03-19T13:15:26+0000',\n",
       "   'id': '1016374218504396_1092887937519690',\n",
       "   'message': 'http://www.nybooks.com/articles/2018/04/05/silicon-valley-beware-big-five/'},\n",
       "  {'created_time': '2018-03-19T12:57:29+0000',\n",
       "   'id': '1016374218504396_1092876634187487',\n",
       "   'message': 'https://www.wired.com/story/susan-wojcicki-on-youtubes-fight-against-misinformation/ - where YouTuber talks misinformation, algorithms, using reputation and links to Wikipedia conspiracy pages.'},\n",
       "  {'created_time': '2018-03-15T20:01:15+0000',\n",
       "   'id': '1016374218504396_1090732657735218',\n",
       "   'message': 'This is a nice piece of data science work (on the list of 2000+ trolls released by congress) https://arxiv.org/pdf/1801.09288.pdf'},\n",
       "  {'created_time': '2018-03-13T19:04:20+0000',\n",
       "   'id': '1016374218504396_1089576937850790',\n",
       "   'message': 'https://www.newyorker.com/magazine/2018/03/19/reddit-and-the-struggle-to-detoxify-the-internet'},\n",
       "  {'created_time': '2018-03-12T10:14:16+0000',\n",
       "   'id': '1016374218504396_1088654861276331',\n",
       "   'message': 'https://medium.com/@timboucher/why-the-internet-is-ruined-4d653a14ac20'},\n",
       "  {'created_time': '2018-03-10T01:03:15+0000',\n",
       "   'id': '1016374218504396_1087225724752578',\n",
       "   'message': 'This is interesting - might be a good seed source for looking for troll-amplified news? https://mediabiasfactcheck.com/'},\n",
       "  {'created_time': '2018-03-08T23:36:53+0000',\n",
       "   'id': '1016374218504396_1086613281480489',\n",
       "   'message': 'http://theatln.tc/2DcqWnL MIT study on twitter falsehood propagation.'},\n",
       "  {'created_time': '2018-03-08T20:48:13+0000',\n",
       "   'id': '1016374218504396_1086563551485462',\n",
       "   'message': 'Today: troll farms. https://twitter.com/benimmo/status/971678310987157505'},\n",
       "  {'created_time': '2018-03-08T02:52:16+0000',\n",
       "   'id': '1016374218504396_1086076561534161',\n",
       "   'message': \"Moral outrage and its manipulation is important in this story.  And I'm cross again about a paper that most people can't read all of. https://www.nature.com/articles/s41562-017-0213-3.epdf\"},\n",
       "  {'created_time': '2018-03-08T01:42:31+0000',\n",
       "   'id': '1016374218504396_1086049908203493',\n",
       "   'message': \"This.  Damaged societies are easier to manipulate: that's not a shock, unless you're in a damaged society and didn't know it yet.\\n\\nhttps://www.politico.com/magazine/story/2018/03/07/russian-bots-social-media-217242\"},\n",
       "  {'created_time': '2018-03-05T02:26:10+0000',\n",
       "   'id': '1016374218504396_1084254848382999',\n",
       "   'message': 'http://www.allgeneralizationsarefalse.com/the-chart-version-3-0-what-exactly-are-we-reading/'},\n",
       "  {'created_time': '2018-03-04T14:09:57+0000',\n",
       "   'id': '1016374218504396_1083964588412025',\n",
       "   'message': \"Some Baltic reading too.  So many pieces to this puzzle: what exists, what's exploited, what the damages are, counters, repairs. https://www.washingtonpost.com/news/democracy-post/wp/2017/04/05/if-you-want-to-see-russian-information-warfare-at-its-worst-visit-these-countries/\"},\n",
       "  {'created_time': '2018-03-04T14:03:17+0000',\n",
       "   'id': '1016374218504396_1083961368412347',\n",
       "   'message': 'Thinking about information wars, tying together some things from 2011. https://theintercept.com/2017/11/25/information-warfare-social-media-book-review-gaza/'},\n",
       "  {'created_time': '2018-03-01T13:43:26+0000',\n",
       "   'id': '1016374218504396_1082120985263052',\n",
       "   'message': 'Ben Nimmo thread tracing Russian operations in us election. \\nhttps://twitter.com/benimmo/status/968538908102479872'},\n",
       "  {'created_time': '2018-02-23T12:58:29+0000',\n",
       "   'id': '1016374218504396_1078590865616064',\n",
       "   'message': 'https://www.nbcnews.com/news/us-news/how-internet-s-conspiracy-theorists-turned-parkland-students-crisis-actors-n849921'},\n",
       "  {'created_time': '2018-02-23T12:56:34+0000',\n",
       "   'id': '1016374218504396_1078589775616173',\n",
       "   'message': 'https://www.nytimes.com/2018/02/20/technology/social-media-impostor-accounts.html'},\n",
       "  {'created_time': '2018-02-17T04:15:30+0000',\n",
       "   'id': '1016374218504396_1074955662646251',\n",
       "   'message': 'http://www.niemanlab.org/2018/02/should-we-consider-fake-news-another-form-of-not-particularly-effective-political-persuasion-or-something-more-dangerous/'},\n",
       "  {'created_time': '2018-02-16T20:56:23+0000',\n",
       "   'id': '1016374218504396_1074803655994785',\n",
       "   'message': 'https://www.nbcnews.com/tech/social-media/now-available-more-200-000-deleted-russian-troll-tweets-n844731?cid=sm_npd_nn_tw_ma some data for the weekend...'}],\n",
       " 'headers': {'x-page-usage': '{\"call_count\":1,\"total_cputime\":1,\"total_time\":1}', 'x-app-usage': '{\"call_count\":1,\"total_cputime\":2,\"total_time\":1}', 'ETag': '\"9e940fad8b0c36e656aadcac5b4c4453e2a77583\"', 'Strict-Transport-Security': 'max-age=15552000; preload', 'x-fb-trace-id': 'GksKTGX/urb', 'x-fb-rev': '3769437', 'Expires': 'Sat, 01 Jan 2000 00:00:00 GMT', 'Content-Type': 'application/json; charset=UTF-8', 'facebook-api-version': 'v2.5', 'Cache-Control': 'private, no-cache, no-store, must-revalidate', 'Pragma': 'no-cache', 'Access-Control-Allow-Origin': '*', 'Vary': 'Accept-Encoding', 'Content-Encoding': 'gzip', 'X-FB-Debug': 'EFBAuaihv248RqHFB1Ppw3J+FC0tzywGdP89hGWCfT2ksGCcQ+ldXmaRauEIc61z0N+7GdjVgVBvyNwBWKGu4Q==', 'Date': 'Fri, 30 Mar 2018 05:41:17 GMT', 'Connection': 'keep-alive', 'Content-Length': '2970'},\n",
       " 'paging': {'next': 'https://graph.facebook.com/v2.5/1016374218504396/posts?access_token=EAACEdEose0cBADQXfJ5IxNtSipxITxYrpVZCq4N7xdvDLZA93oQFR3CSGSqywGtgdyUQBrnoUH7jmFpVqB9Mqly8O75ciNYXdh3HgDljBDmVoDJ8iMDS2o3EKsWeudGXJ4WVPSCKSlHvGnUIguO7s63rk9FVwYrWB2CFtsd9ZC1MTsIIM1tZBTTLKvPC1ZA0ZD&limit=25&until=1518814583&__paging_token=enc_AdACCr355XVflShazjTmJCWwacqZCWlpt2zKWWos3ZByPv3S0xDNgW0lJgJqbPE6Y2ZAuYbY9R3xZBwYFb9RNWVkwZAemfhuysBkSZA8dK3ZAkMEHtZC0AZDZD',\n",
       "  'previous': 'https://graph.facebook.com/v2.5/1016374218504396/posts?since=1522327154&access_token=EAACEdEose0cBADQXfJ5IxNtSipxITxYrpVZCq4N7xdvDLZA93oQFR3CSGSqywGtgdyUQBrnoUH7jmFpVqB9Mqly8O75ciNYXdh3HgDljBDmVoDJ8iMDS2o3EKsWeudGXJ4WVPSCKSlHvGnUIguO7s63rk9FVwYrWB2CFtsd9ZC1MTsIIM1tZBTTLKvPC1ZA0ZD&limit=25&__paging_token=enc_AdD6BtChkMZAZAqIf2TosluOcZCfLquhO3DsLkZCTvtoIg3HNSBA1y1tVnXcJ21DXpZBZAzb6eLIJseBhDWst9FvnyRkWJNWD9eX2Oac8jCLNNBZAb5HgZDZD&__previous=1'}}"
      ]
     },
     "execution_count": 19,
     "metadata": {},
     "output_type": "execute_result"
    }
   ],
   "source": [
    "# My personal posts\n",
    "graph.get('me/posts')"
   ]
  },
  {
   "cell_type": "code",
   "execution_count": null,
   "metadata": {
    "collapsed": true
   },
   "outputs": [],
   "source": []
  }
 ],
 "metadata": {
  "kernelspec": {
   "display_name": "Python 3",
   "language": "python",
   "name": "python3"
  },
  "language_info": {
   "codemirror_mode": {
    "name": "ipython",
    "version": 3
   },
   "file_extension": ".py",
   "mimetype": "text/x-python",
   "name": "python",
   "nbconvert_exporter": "python",
   "pygments_lexer": "ipython3",
   "version": "3.6.3"
  }
 },
 "nbformat": 4,
 "nbformat_minor": 2
}
