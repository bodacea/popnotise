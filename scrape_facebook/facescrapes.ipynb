{
 "cells": [
  {
   "cell_type": "code",
   "execution_count": 1,
   "metadata": {
    "collapsed": true
   },
   "outputs": [],
   "source": [
    "# Look at new Facebook API"
   ]
  },
  {
   "cell_type": "code",
   "execution_count": 3,
   "metadata": {},
   "outputs": [],
   "source": [
    "from facepy import GraphAPI\n",
    "import json"
   ]
  },
  {
   "cell_type": "code",
   "execution_count": 8,
   "metadata": {},
   "outputs": [
    {
     "data": {
      "text/plain": [
       "['face',\n",
       " 'EAAGMqrGvA9UBAObBjNyA12q1U6ly0ql24tC9DTezU4hYnC6gs3UK17ZBRLZA8Am7oxSBMXrmY8Lr1DsnRJZBvyGfY3MlIatUMv9socXnxmUWWV2xk2cpGG80L3ZBkYBEVUTZAPZB2OVxtzZCCIceX2bGG6mjHc4OnY2eagTdfpIPmagNFQkqrdY3gX7rPJ1zxMZD\\ntwit',\n",
       " '42722682-PvYHX3Aq0od3FMF4tu2sBhPDvYzf8883W1VSyB7uJ']"
      ]
     },
     "execution_count": 8,
     "metadata": {},
     "output_type": "execute_result"
    }
   ],
   "source": [
    "fin = open('../../../p_sjt_all.csv', 'r')\n",
    "fids = fin.read().split(',')[:3]\n",
    "fids"
   ]
  },
  {
   "cell_type": "code",
   "execution_count": 9,
   "metadata": {
    "collapsed": true
   },
   "outputs": [],
   "source": [
    "#Get access token from https://developers.facebook.com/tools/explorer/\n",
    "access = fids[1]\n",
    "graph = GraphAPI(access)\n",
    "page_id= fids[2]\n",
    "datas= graph.get(page_id+'/posts?fields=message', page=True, retry=5)"
   ]
  },
  {
   "cell_type": "code",
   "execution_count": 11,
   "metadata": {},
   "outputs": [
    {
     "name": "stderr",
     "output_type": "stream",
     "text": [
      "WARNING:root:Exception on https://graph.facebook.com/me/posts: [190] Malformed access token EAAGMqrGvA9UBAObBjNyA12q1U6ly0ql24tC9DTezU4hYnC6gs3UK17ZBRLZA8Am7oxSBMXrmY8Lr1DsnRJZBvyGfY3MlIatUMv9socXnxmUWWV2xk2cpGG80L3ZBkYBEVUTZAPZB2OVxtzZCCIceX2bGG6mjHc4OnY2eagTdfpIPmagNFQkqrdY3gX7rPJ1zxMZD\n",
      "twit, retries remaining: 3\n",
      "WARNING:root:Exception on https://graph.facebook.com/me/posts: [190] Malformed access token EAAGMqrGvA9UBAObBjNyA12q1U6ly0ql24tC9DTezU4hYnC6gs3UK17ZBRLZA8Am7oxSBMXrmY8Lr1DsnRJZBvyGfY3MlIatUMv9socXnxmUWWV2xk2cpGG80L3ZBkYBEVUTZAPZB2OVxtzZCCIceX2bGG6mjHc4OnY2eagTdfpIPmagNFQkqrdY3gX7rPJ1zxMZD\n",
      "twit, retries remaining: 2\n",
      "WARNING:root:Exception on https://graph.facebook.com/me/posts: [190] Malformed access token EAAGMqrGvA9UBAObBjNyA12q1U6ly0ql24tC9DTezU4hYnC6gs3UK17ZBRLZA8Am7oxSBMXrmY8Lr1DsnRJZBvyGfY3MlIatUMv9socXnxmUWWV2xk2cpGG80L3ZBkYBEVUTZAPZB2OVxtzZCCIceX2bGG6mjHc4OnY2eagTdfpIPmagNFQkqrdY3gX7rPJ1zxMZD\n",
      "twit, retries remaining: 1\n",
      "WARNING:root:Exception on https://graph.facebook.com/me/posts: [190] Malformed access token EAAGMqrGvA9UBAObBjNyA12q1U6ly0ql24tC9DTezU4hYnC6gs3UK17ZBRLZA8Am7oxSBMXrmY8Lr1DsnRJZBvyGfY3MlIatUMv9socXnxmUWWV2xk2cpGG80L3ZBkYBEVUTZAPZB2OVxtzZCCIceX2bGG6mjHc4OnY2eagTdfpIPmagNFQkqrdY3gX7rPJ1zxMZD\n",
      "twit, retries remaining: 0\n"
     ]
    },
    {
     "ename": "OAuthError",
     "evalue": "[190] Malformed access token EAAGMqrGvA9UBAObBjNyA12q1U6ly0ql24tC9DTezU4hYnC6gs3UK17ZBRLZA8Am7oxSBMXrmY8Lr1DsnRJZBvyGfY3MlIatUMv9socXnxmUWWV2xk2cpGG80L3ZBkYBEVUTZAPZB2OVxtzZCCIceX2bGG6mjHc4OnY2eagTdfpIPmagNFQkqrdY3gX7rPJ1zxMZD\ntwit",
     "output_type": "error",
     "traceback": [
      "\u001b[0;31m---------------------------------------------------------------------------\u001b[0m",
      "\u001b[0;31mOAuthError\u001b[0m                                Traceback (most recent call last)",
      "\u001b[0;32m<ipython-input-11-ef7005686250>\u001b[0m in \u001b[0;36m<module>\u001b[0;34m()\u001b[0m\n\u001b[0;32m----> 1\u001b[0;31m \u001b[0mgraph\u001b[0m\u001b[0;34m.\u001b[0m\u001b[0mget\u001b[0m\u001b[0;34m(\u001b[0m\u001b[0;34m'me/posts'\u001b[0m\u001b[0;34m)\u001b[0m\u001b[0;34m\u001b[0m\u001b[0m\n\u001b[0m",
      "\u001b[0;32m/anaconda3/lib/python3.6/site-packages/facepy/graph_api.py\u001b[0m in \u001b[0;36mget\u001b[0;34m(self, path, page, retry, **options)\u001b[0m\n\u001b[1;32m     71\u001b[0m             \u001b[0mdata\u001b[0m\u001b[0;34m=\u001b[0m\u001b[0moptions\u001b[0m\u001b[0;34m,\u001b[0m\u001b[0;34m\u001b[0m\u001b[0m\n\u001b[1;32m     72\u001b[0m             \u001b[0mpage\u001b[0m\u001b[0;34m=\u001b[0m\u001b[0mpage\u001b[0m\u001b[0;34m,\u001b[0m\u001b[0;34m\u001b[0m\u001b[0m\n\u001b[0;32m---> 73\u001b[0;31m             \u001b[0mretry\u001b[0m\u001b[0;34m=\u001b[0m\u001b[0mretry\u001b[0m\u001b[0;34m\u001b[0m\u001b[0m\n\u001b[0m\u001b[1;32m     74\u001b[0m         )\n\u001b[1;32m     75\u001b[0m \u001b[0;34m\u001b[0m\u001b[0m\n",
      "\u001b[0;32m/anaconda3/lib/python3.6/site-packages/facepy/graph_api.py\u001b[0m in \u001b[0;36m_query\u001b[0;34m(self, method, path, data, page, retry)\u001b[0m\n\u001b[1;32m    332\u001b[0m             \u001b[0;32mreturn\u001b[0m \u001b[0mpaginate\u001b[0m\u001b[0;34m(\u001b[0m\u001b[0mmethod\u001b[0m\u001b[0;34m,\u001b[0m \u001b[0murl\u001b[0m\u001b[0;34m,\u001b[0m \u001b[0mdata\u001b[0m\u001b[0;34m)\u001b[0m\u001b[0;34m\u001b[0m\u001b[0m\n\u001b[1;32m    333\u001b[0m         \u001b[0;32melse\u001b[0m\u001b[0;34m:\u001b[0m\u001b[0;34m\u001b[0m\u001b[0m\n\u001b[0;32m--> 334\u001b[0;31m             \u001b[0;32mreturn\u001b[0m \u001b[0mload_with_retry\u001b[0m\u001b[0;34m(\u001b[0m\u001b[0mmethod\u001b[0m\u001b[0;34m,\u001b[0m \u001b[0murl\u001b[0m\u001b[0;34m,\u001b[0m \u001b[0mdata\u001b[0m\u001b[0;34m)\u001b[0m\u001b[0;34m[\u001b[0m\u001b[0;36m0\u001b[0m\u001b[0;34m]\u001b[0m\u001b[0;34m\u001b[0m\u001b[0m\n\u001b[0m\u001b[1;32m    335\u001b[0m \u001b[0;34m\u001b[0m\u001b[0m\n\u001b[1;32m    336\u001b[0m     \u001b[0;32mdef\u001b[0m \u001b[0m_get_url\u001b[0m\u001b[0;34m(\u001b[0m\u001b[0mself\u001b[0m\u001b[0;34m,\u001b[0m \u001b[0mpath\u001b[0m\u001b[0;34m)\u001b[0m\u001b[0;34m:\u001b[0m\u001b[0;34m\u001b[0m\u001b[0m\n",
      "\u001b[0;32m/anaconda3/lib/python3.6/site-packages/facepy/graph_api.py\u001b[0m in \u001b[0;36mload_with_retry\u001b[0;34m(method, url, data)\u001b[0m\n\u001b[1;32m    286\u001b[0m             \u001b[0;32mwhile\u001b[0m \u001b[0;32mTrue\u001b[0m\u001b[0;34m:\u001b[0m\u001b[0;34m\u001b[0m\u001b[0m\n\u001b[1;32m    287\u001b[0m                 \u001b[0;32mtry\u001b[0m\u001b[0;34m:\u001b[0m\u001b[0;34m\u001b[0m\u001b[0m\n\u001b[0;32m--> 288\u001b[0;31m                     \u001b[0;32mreturn\u001b[0m \u001b[0mload\u001b[0m\u001b[0;34m(\u001b[0m\u001b[0mmethod\u001b[0m\u001b[0;34m,\u001b[0m \u001b[0murl\u001b[0m\u001b[0;34m,\u001b[0m \u001b[0mdata\u001b[0m\u001b[0;34m)\u001b[0m\u001b[0;34m\u001b[0m\u001b[0m\n\u001b[0m\u001b[1;32m    289\u001b[0m                 \u001b[0;32mexcept\u001b[0m \u001b[0mFacepyError\u001b[0m \u001b[0;32mas\u001b[0m \u001b[0me\u001b[0m\u001b[0;34m:\u001b[0m\u001b[0;34m\u001b[0m\u001b[0m\n\u001b[1;32m    290\u001b[0m                     logging.warn(\"Exception on %s: %s, retries remaining: %s\" % (\n",
      "\u001b[0;32m/anaconda3/lib/python3.6/site-packages/facepy/graph_api.py\u001b[0m in \u001b[0;36mload\u001b[0;34m(method, url, data)\u001b[0m\n\u001b[1;32m    271\u001b[0m                 \u001b[0;32mraise\u001b[0m \u001b[0mHTTPError\u001b[0m\u001b[0;34m(\u001b[0m\u001b[0mexception\u001b[0m\u001b[0;34m)\u001b[0m\u001b[0;34m\u001b[0m\u001b[0m\n\u001b[1;32m    272\u001b[0m \u001b[0;34m\u001b[0m\u001b[0m\n\u001b[0;32m--> 273\u001b[0;31m             \u001b[0mresult\u001b[0m \u001b[0;34m=\u001b[0m \u001b[0mself\u001b[0m\u001b[0;34m.\u001b[0m\u001b[0m_parse\u001b[0m\u001b[0;34m(\u001b[0m\u001b[0mresponse\u001b[0m\u001b[0;34m.\u001b[0m\u001b[0mcontent\u001b[0m\u001b[0;34m)\u001b[0m\u001b[0;34m\u001b[0m\u001b[0m\n\u001b[0m\u001b[1;32m    274\u001b[0m             \u001b[0;32mif\u001b[0m \u001b[0misinstance\u001b[0m\u001b[0;34m(\u001b[0m\u001b[0mresult\u001b[0m\u001b[0;34m,\u001b[0m \u001b[0mdict\u001b[0m\u001b[0;34m)\u001b[0m\u001b[0;34m:\u001b[0m\u001b[0;34m\u001b[0m\u001b[0m\n\u001b[1;32m    275\u001b[0m                 \u001b[0mresult\u001b[0m\u001b[0;34m[\u001b[0m\u001b[0;34m'headers'\u001b[0m\u001b[0;34m]\u001b[0m \u001b[0;34m=\u001b[0m \u001b[0mresponse\u001b[0m\u001b[0;34m.\u001b[0m\u001b[0mheaders\u001b[0m\u001b[0;34m\u001b[0m\u001b[0m\n",
      "\u001b[0;32m/anaconda3/lib/python3.6/site-packages/facepy/graph_api.py\u001b[0m in \u001b[0;36m_parse\u001b[0;34m(self, data)\u001b[0m\n\u001b[1;32m    402\u001b[0m                     \u001b[0mexception\u001b[0m \u001b[0;34m=\u001b[0m \u001b[0mFacebookError\u001b[0m\u001b[0;34m\u001b[0m\u001b[0m\n\u001b[1;32m    403\u001b[0m \u001b[0;34m\u001b[0m\u001b[0m\n\u001b[0;32m--> 404\u001b[0;31m                 \u001b[0;32mraise\u001b[0m \u001b[0mexception\u001b[0m\u001b[0;34m(\u001b[0m\u001b[0;34m**\u001b[0m\u001b[0mself\u001b[0m\u001b[0;34m.\u001b[0m\u001b[0m_get_error_params\u001b[0m\u001b[0;34m(\u001b[0m\u001b[0mdata\u001b[0m\u001b[0;34m)\u001b[0m\u001b[0;34m)\u001b[0m\u001b[0;34m\u001b[0m\u001b[0m\n\u001b[0m\u001b[1;32m    405\u001b[0m \u001b[0;34m\u001b[0m\u001b[0m\n\u001b[1;32m    406\u001b[0m             \u001b[0;31m# Facebook occasionally reports errors in its legacy error format.\u001b[0m\u001b[0;34m\u001b[0m\u001b[0;34m\u001b[0m\u001b[0m\n",
      "\u001b[0;31mOAuthError\u001b[0m: [190] Malformed access token EAAGMqrGvA9UBAObBjNyA12q1U6ly0ql24tC9DTezU4hYnC6gs3UK17ZBRLZA8Am7oxSBMXrmY8Lr1DsnRJZBvyGfY3MlIatUMv9socXnxmUWWV2xk2cpGG80L3ZBkYBEVUTZAPZB2OVxtzZCCIceX2bGG6mjHc4OnY2eagTdfpIPmagNFQkqrdY3gX7rPJ1zxMZD\ntwit"
     ]
    }
   ],
   "source": [
    "graph.get('me/posts')"
   ]
  },
  {
   "cell_type": "code",
   "execution_count": null,
   "metadata": {
    "collapsed": true
   },
   "outputs": [],
   "source": []
  }
 ],
 "metadata": {
  "kernelspec": {
   "display_name": "Python 3",
   "language": "python",
   "name": "python3"
  },
  "language_info": {
   "codemirror_mode": {
    "name": "ipython",
    "version": 3
   },
   "file_extension": ".py",
   "mimetype": "text/x-python",
   "name": "python",
   "nbconvert_exporter": "python",
   "pygments_lexer": "ipython3",
   "version": "3.6.3"
  }
 },
 "nbformat": 4,
 "nbformat_minor": 2
}
